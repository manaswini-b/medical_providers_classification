{
 "cells": [
  {
   "cell_type": "markdown",
   "metadata": {},
   "source": [
    "### For inline display of plots"
   ]
  },
  {
   "cell_type": "code",
   "execution_count": 1,
   "metadata": {
    "collapsed": true
   },
   "outputs": [],
   "source": [
    "%matplotlib inline"
   ]
  },
  {
   "cell_type": "markdown",
   "metadata": {},
   "source": [
    "## Imports"
   ]
  },
  {
   "cell_type": "code",
   "execution_count": 2,
   "metadata": {
    "collapsed": true
   },
   "outputs": [],
   "source": [
    "import numpy as np\n",
    "import pandas as pd"
   ]
  },
  {
   "cell_type": "markdown",
   "metadata": {},
   "source": [
    "## Data Read"
   ]
  },
  {
   "cell_type": "code",
   "execution_count": 26,
   "metadata": {
    "scrolled": false
   },
   "outputs": [
    {
     "data": {
      "text/plain": [
       "0    6vFQfkVIyHglLHjv\n",
       "1    6vFQfkVIyHglLHjv\n",
       "2    6vFQfkVIyHglLHjv\n",
       "3    6vFQfkVIyHglLHjv\n",
       "4    6vFQfkVIyHglLHjv\n",
       "5    6vFQfkVIyHglLHjv\n",
       "6    1wyQjXUjUljiLEyP\n",
       "7    1wyQjXUjUljiLEyP\n",
       "8    1wyQjXUjUljiLEyP\n",
       "9    1wyQjXUjUljiLEyP\n",
       "Name: ID, dtype: object"
      ]
     },
     "execution_count": 26,
     "metadata": {},
     "output_type": "execute_result"
    }
   ],
   "source": [
    "data = pd.read_csv(\"data.csv\")\n",
    "data[\"ID\"].head(10)"
   ]
  },
  {
   "cell_type": "markdown",
   "metadata": {},
   "source": [
    "## Taking the absolute of values to deal with negative values"
   ]
  },
  {
   "cell_type": "code",
   "execution_count": 27,
   "metadata": {
    "collapsed": true
   },
   "outputs": [],
   "source": [
    "columns = data.columns[2:8]\n",
    "for i in columns:\n",
    "    data[i] = data[i].abs()"
   ]
  },
  {
   "cell_type": "markdown",
   "metadata": {},
   "source": [
    "## Calculating ratio of dosage for each type of drug"
   ]
  },
  {
   "cell_type": "code",
   "execution_count": 28,
   "metadata": {},
   "outputs": [],
   "source": [
    "data['A'] = data['A_Payments']/data['A_Patients']\n",
    "data[\"B\"] = data[\"B_Payments\"]/data[\"B_Patients\"]\n",
    "data[\"C\"] = data[\"C_Payments\"]/data[\"C_Patients\"]"
   ]
  },
  {
   "cell_type": "markdown",
   "metadata": {},
   "source": [
    "## Dropping unnecessary columns"
   ]
  },
  {
   "cell_type": "code",
   "execution_count": 29,
   "metadata": {},
   "outputs": [
    {
     "data": {
      "text/html": [
       "<div>\n",
       "<style>\n",
       "    .dataframe thead tr:only-child th {\n",
       "        text-align: right;\n",
       "    }\n",
       "\n",
       "    .dataframe thead th {\n",
       "        text-align: left;\n",
       "    }\n",
       "\n",
       "    .dataframe tbody tr th {\n",
       "        vertical-align: top;\n",
       "    }\n",
       "</style>\n",
       "<table border=\"1\" class=\"dataframe\">\n",
       "  <thead>\n",
       "    <tr style=\"text-align: right;\">\n",
       "      <th></th>\n",
       "      <th>ID</th>\n",
       "      <th>A</th>\n",
       "      <th>B</th>\n",
       "      <th>C</th>\n",
       "    </tr>\n",
       "  </thead>\n",
       "  <tbody>\n",
       "    <tr>\n",
       "      <th>0</th>\n",
       "      <td>6vFQfkVIyHglLHjv</td>\n",
       "      <td>NaN</td>\n",
       "      <td>609.750000</td>\n",
       "      <td>1.0</td>\n",
       "    </tr>\n",
       "    <tr>\n",
       "      <th>1</th>\n",
       "      <td>6vFQfkVIyHglLHjv</td>\n",
       "      <td>114.000000</td>\n",
       "      <td>5.000000</td>\n",
       "      <td>NaN</td>\n",
       "    </tr>\n",
       "    <tr>\n",
       "      <th>2</th>\n",
       "      <td>6vFQfkVIyHglLHjv</td>\n",
       "      <td>NaN</td>\n",
       "      <td>1599.000000</td>\n",
       "      <td>NaN</td>\n",
       "    </tr>\n",
       "    <tr>\n",
       "      <th>3</th>\n",
       "      <td>6vFQfkVIyHglLHjv</td>\n",
       "      <td>120.000000</td>\n",
       "      <td>4.500000</td>\n",
       "      <td>NaN</td>\n",
       "    </tr>\n",
       "    <tr>\n",
       "      <th>4</th>\n",
       "      <td>6vFQfkVIyHglLHjv</td>\n",
       "      <td>NaN</td>\n",
       "      <td>652.423077</td>\n",
       "      <td>2.0</td>\n",
       "    </tr>\n",
       "    <tr>\n",
       "      <th>5</th>\n",
       "      <td>6vFQfkVIyHglLHjv</td>\n",
       "      <td>125.214286</td>\n",
       "      <td>1801.500000</td>\n",
       "      <td>NaN</td>\n",
       "    </tr>\n",
       "    <tr>\n",
       "      <th>6</th>\n",
       "      <td>1wyQjXUjUljiLEyP</td>\n",
       "      <td>1500.000000</td>\n",
       "      <td>14431.200000</td>\n",
       "      <td>461.0</td>\n",
       "    </tr>\n",
       "    <tr>\n",
       "      <th>7</th>\n",
       "      <td>1wyQjXUjUljiLEyP</td>\n",
       "      <td>8.000000</td>\n",
       "      <td>636.125000</td>\n",
       "      <td>37.0</td>\n",
       "    </tr>\n",
       "    <tr>\n",
       "      <th>8</th>\n",
       "      <td>1wyQjXUjUljiLEyP</td>\n",
       "      <td>NaN</td>\n",
       "      <td>8187.600000</td>\n",
       "      <td>NaN</td>\n",
       "    </tr>\n",
       "    <tr>\n",
       "      <th>9</th>\n",
       "      <td>1wyQjXUjUljiLEyP</td>\n",
       "      <td>21.571429</td>\n",
       "      <td>97.333333</td>\n",
       "      <td>12.0</td>\n",
       "    </tr>\n",
       "  </tbody>\n",
       "</table>\n",
       "</div>"
      ],
      "text/plain": [
       "                 ID            A             B      C\n",
       "0  6vFQfkVIyHglLHjv          NaN    609.750000    1.0\n",
       "1  6vFQfkVIyHglLHjv   114.000000      5.000000    NaN\n",
       "2  6vFQfkVIyHglLHjv          NaN   1599.000000    NaN\n",
       "3  6vFQfkVIyHglLHjv   120.000000      4.500000    NaN\n",
       "4  6vFQfkVIyHglLHjv          NaN    652.423077    2.0\n",
       "5  6vFQfkVIyHglLHjv   125.214286   1801.500000    NaN\n",
       "6  1wyQjXUjUljiLEyP  1500.000000  14431.200000  461.0\n",
       "7  1wyQjXUjUljiLEyP     8.000000    636.125000   37.0\n",
       "8  1wyQjXUjUljiLEyP          NaN   8187.600000    NaN\n",
       "9  1wyQjXUjUljiLEyP    21.571429     97.333333   12.0"
      ]
     },
     "execution_count": 29,
     "metadata": {},
     "output_type": "execute_result"
    }
   ],
   "source": [
    "columns = data.columns[1:8]\n",
    "data.drop(columns, axis = 1, inplace = True)\n",
    "data.head(10)"
   ]
  },
  {
   "cell_type": "markdown",
   "metadata": {},
   "source": [
    "## Grouing the data based on ID values\n",
    "For rows with same ID, values for corresponding columns is equal to their mean"
   ]
  },
  {
   "cell_type": "code",
   "execution_count": 30,
   "metadata": {
    "collapsed": true,
    "scrolled": true
   },
   "outputs": [],
   "source": [
    "data1=data.groupby(\"ID\").mean().reset_index()\n",
    "# data1.loc[['wwyJwO6CL1dqIooh']]"
   ]
  },
  {
   "cell_type": "markdown",
   "metadata": {},
   "source": [
    "## Replacing infinite values with max value\n",
    "Grouping resulted in infinite values. So replacing such value with its column's max value"
   ]
  },
  {
   "cell_type": "code",
   "execution_count": 31,
   "metadata": {
    "collapsed": true
   },
   "outputs": [],
   "source": [
    "columns = data1.columns\n",
    "for i in columns:\n",
    "    data1[i].replace([np.inf],max(data1[i].replace(np.inf, np.nan)),inplace=True)"
   ]
  },
  {
   "cell_type": "markdown",
   "metadata": {},
   "source": [
    "## Plotting the prescription ratios to identify limits"
   ]
  },
  {
   "cell_type": "markdown",
   "metadata": {},
   "source": [
    "### For Drug A"
   ]
  },
  {
   "cell_type": "code",
   "execution_count": 20,
   "metadata": {},
   "outputs": [
    {
     "data": {
      "image/png": "[encoded data removed]",
      "text/plain": [
       "<matplotlib.figure.Figure at 0x1e70e6b2b38>"
      ]
     },
     "metadata": {},
     "output_type": "display_data"
    }
   ],
   "source": [
    "aplot = data1.loc[data1[\"A\"] < 2000]\n",
    "plt.scatter(x=aplot[\"ID\"], y=aplot[\"A\"])\n",
    "plt.show()"
   ]
  },
  {
   "cell_type": "markdown",
   "metadata": {},
   "source": [
    "### For Drug B"
   ]
  },
  {
   "cell_type": "code",
   "execution_count": 21,
   "metadata": {},
   "outputs": [
    {
     "data": {
      "image/png": "[encoded data removed]",
      "text/plain": [
       "<matplotlib.figure.Figure at 0x1e70c77df60>"
      ]
     },
     "metadata": {},
     "output_type": "display_data"
    }
   ],
   "source": [
    "plt.scatter(x=data1[\"ID\"], y=data1[\"B\"])\n",
    "plt.show()"
   ]
  },
  {
   "cell_type": "markdown",
   "metadata": {},
   "source": [
    "### For Drug C"
   ]
  },
  {
   "cell_type": "code",
   "execution_count": 14,
   "metadata": {
    "scrolled": true
   },
   "outputs": [
    {
     "data": {
      "image/png": "[encoded data removed]",
      "text/plain": [
       "<matplotlib.figure.Figure at 0x1e7094a3b00>"
      ]
     },
     "metadata": {},
     "output_type": "display_data"
    }
   ],
   "source": [
    "import matplotlib.pyplot as plt\n",
    "cplot = data1.loc[data1[\"C\"] < 1000]\n",
    "plt.scatter(x=oplot[\"ID\"], y=cplot[\"C\"])\n",
    "plt.show()"
   ]
  },
  {
   "cell_type": "markdown",
   "metadata": {},
   "source": [
    "## Classifying the providers based on prescription ratio limits\n",
    "- If the prescription for atleast two types of drugs is above optimal limits, then \"Over prescribing\"\n",
    "- If only Drug C has prescription ratio above limit, then \"High Pain Killers\""
   ]
  },
  {
   "cell_type": "code",
   "execution_count": 37,
   "metadata": {},
   "outputs": [],
   "source": [
    "limit_A = 750\n",
    "limit_B = 1000\n",
    "limit_C = 500\n",
    "def nature(row):\n",
    "    if ((row[\"A\"] > limit_A) + (row[\"B\"] > limit_B) + (row[\"C\"] > limit_C) >1):\n",
    "        return \"Over Prescribing\"\n",
    "    elif row[\"C\"] > limit_C:\n",
    "        return \"High Pain Killers\"\n",
    "    else:\n",
    "        return \"Normal\"\n",
    "data1[\"nature\"] = data1.apply(nature, axis=1)\n"
   ]
  },
  {
   "cell_type": "code",
   "execution_count": 39,
   "metadata": {},
   "outputs": [],
   "source": [
    "high_pain_killers = np.array(data1.loc[data1[\"nature\"] == \"High Pain Killers\"][\"ID\"])\n",
    "over_prescribing = np.array(data1.loc[data1[\"nature\"] == \"Over Prescribing\"][\"ID\"])\n",
    "# print(high_pain_killers)\n",
    "# print(high_drugs)"
   ]
  },
  {
   "cell_type": "code",
   "execution_count": null,
   "metadata": {
    "collapsed": true
   },
   "outputs": [],
   "source": [
    "# "
   ]
  }
 ],
 "metadata": {
  "kernelspec": {
   "display_name": "Python 3",
   "language": "python",
   "name": "python3"
  },
  "language_info": {
   "codemirror_mode": {
    "name": "ipython",
    "version": 3
   },
   "file_extension": ".py",
   "mimetype": "text/x-python",
   "name": "python",
   "nbconvert_exporter": "python",
   "pygments_lexer": "ipython3",
   "version": "3.6.3"
  }
 },
 "nbformat": 4,
 "nbformat_minor": 2
}
